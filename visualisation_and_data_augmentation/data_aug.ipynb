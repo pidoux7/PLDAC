{
 "cells": [
  {
   "cell_type": "code",
   "execution_count": 15,
   "metadata": {},
   "outputs": [],
   "source": [
    "import os\n",
    "import numpy as np\n",
    "from PIL import Image\n",
    "import cv2\n",
    "from matplotlib import pyplot as plt\n",
    "import math as math\n",
    "#!pip install imgaug\n",
    "import imgaug.augmenters as iaa"
   ]
  },
  {
   "attachments": {},
   "cell_type": "markdown",
   "metadata": {},
   "source": [
    "# Charger les images"
   ]
  },
  {
   "cell_type": "code",
   "execution_count": 16,
   "metadata": {},
   "outputs": [],
   "source": [
    "def load_images(path, gray_scale = False):\n",
    "    \"\"\"\n",
    "    On charge les images et on le mets toutes avec les mêmes dimensions\n",
    "    \"\"\"\n",
    "    images = []\n",
    "    names = os.listdir(path)\n",
    "    for f in os.listdir(path):\n",
    "        img = None\n",
    "        if gray_scale : \n",
    "            img = cv2.imread(os.path.join(path, f), 0)\n",
    "        else :\n",
    "            img = cv2.imread(os.path.join(path, f))\n",
    "        if img is not None:\n",
    "            img = cv2.resize(img, (1024,1024))\n",
    "            images.append(img)\n",
    "    s = sorted(zip(names,images))\n",
    "    tuples = zip(*s)\n",
    "    names , images = [list(tuple) for tuple in tuples]\n",
    "    return images, names\n",
    "\n",
    "def load_labels(path):\n",
    "    \"\"\"\n",
    "    On charge les labels \n",
    "    \"\"\"\n",
    "    labels = []\n",
    "    l_names = os.listdir(path)\n",
    "    for f in os.listdir(path):\n",
    "        with open(path+f,'r') as fp:\n",
    "            ligne = fp.readline()\n",
    "            liste = ligne.split(' ')\n",
    "            labels.append(liste)\n",
    "    s= sorted(zip(l_names,labels))\n",
    "    tuples = zip(*s)\n",
    "    l_names , labels = [list(tuple) for tuple in tuples]\n",
    "    return labels, l_names\n",
    "\n",
    "path_images = '../labelling/Images/Biliary_ducts/'\n",
    "images,i_names = load_images(path_images, True)\n",
    "\n",
    "path_labels = './labelling/Labels/output_Biliary_ducts/'\n",
    "labels,l_names = load_labels(path_labels)"
   ]
  },
  {
   "attachments": {},
   "cell_type": "markdown",
   "metadata": {},
   "source": [
    "# afficher rectangle"
   ]
  },
  {
   "cell_type": "code",
   "execution_count": 18,
   "metadata": {},
   "outputs": [],
   "source": [
    "def rectangle(img,label):\n",
    "    # shape image\n",
    "    n , m  = img.shape\n",
    "    # coordonnées\n",
    "    x_center = int(float(label[1]) * m)\n",
    "    y_center = int(float(label[2]) * n)\n",
    "    width = int(float(label[3]) * m)\n",
    "    height = int(float(label[4]) * n)\n",
    "    x1 = int(x_center - 0.5 * width)\n",
    "    y1 = int(y_center - 0.5 * height)\n",
    "    x2 = int(x_center + 0.5 * width)\n",
    "    y2 = int(y_center  + 0.5 * height)\n",
    "    # draw rectangle on image\n",
    "    img_modif = img.copy()\n",
    "    cv2.rectangle(img_modif, (x1, y1), (x2, y2), (0, 0, 255),thickness = 2)\n",
    "    return img_modif"
   ]
  },
  {
   "attachments": {},
   "cell_type": "markdown",
   "metadata": {},
   "source": [
    "# Copier images et label vers le dossier souhaité (obligatoire)"
   ]
  },
  {
   "cell_type": "code",
   "execution_count": 42,
   "metadata": {},
   "outputs": [],
   "source": [
    "def copier_image_original(labels,images,i_names,l_names,i_path,l_path):\n",
    "    for i in range(len(images)):\n",
    "        # Open the image and convert it to grayscale\n",
    "        data = images[i]\n",
    "        data = data.astype(np.uint8)\n",
    "        # Save the stretched image to a new file\n",
    "        imgpil = Image.fromarray(data) # Transformation du tableau en image PIL\n",
    "        imgpil.save(i_path+l_names[i][:-4]+'.bmp')\n",
    "\n",
    "\n",
    "    new_labels = labels\n",
    "    for i in range(len(labels)):\n",
    "        with open(l_path+l_names[i][:-4]+'.txt','w') as fp:\n",
    "            ligne = f'{new_labels[i][0]} {new_labels[i][1]} {new_labels[i][2]} {new_labels[i][3]} {new_labels[i][4]}'\n",
    "            fp.write(ligne)\n",
    "            \n",
    "    return True"
   ]
  },
  {
   "cell_type": "code",
   "execution_count": 43,
   "metadata": {},
   "outputs": [
    {
     "data": {
      "text/plain": [
       "True"
      ]
     },
     "execution_count": 43,
     "metadata": {},
     "output_type": "execute_result"
    }
   ],
   "source": [
    "i_path = '../piford/'\n",
    "l_path = '../piford/'\n",
    "copier_image_original(labels,images,i_names,l_names,i_path,l_path)"
   ]
  },
  {
   "attachments": {},
   "cell_type": "markdown",
   "metadata": {},
   "source": [
    "# Créer image et label rotation 180"
   ]
  },
  {
   "cell_type": "code",
   "execution_count": 19,
   "metadata": {},
   "outputs": [],
   "source": [
    "def relabel_180(labels,images,i_names,l_names,i_path,l_path):\n",
    "    n,m = images[0].shape\n",
    "    new_labels = labels\n",
    "    for i in range(len(labels)):\n",
    "        new_labels[i][1] = (m - int(float(labels[i][1]) * m)) / m\n",
    "        new_labels[i][2] = (n - int(float(labels[i][2]) * n)) / n\n",
    "    \n",
    "        with open(l_path+l_names[i][:-4]+'_r180.txt','w') as fp:\n",
    "            ligne = f'{new_labels[i][0]} {new_labels[i][1]} {new_labels[i][2]} {new_labels[i][3]} {new_labels[i][4]}'\n",
    "            fp.write(ligne)\n",
    "    \n",
    "    for i in range(len(images)):\n",
    "        img_r180 = cv2.rotate(images[i],cv2.ROTATE_180)\n",
    "        imgpil = Image.fromarray(img_r180) # Transformation du tableau en image PIL\n",
    "        imgpil.save(i_path+l_names[i][:-4]+'_r180.bmp')\n",
    "    return True\n",
    "\n"
   ]
  },
  {
   "cell_type": "code",
   "execution_count": 20,
   "metadata": {},
   "outputs": [
    {
     "data": {
      "text/plain": [
       "True"
      ]
     },
     "execution_count": 20,
     "metadata": {},
     "output_type": "execute_result"
    }
   ],
   "source": [
    "i_path = '../piford/'\n",
    "l_path = '../piford/'\n",
    "relabel_180(labels,images,i_names,l_names,i_path,l_path)"
   ]
  },
  {
   "attachments": {},
   "cell_type": "markdown",
   "metadata": {},
   "source": [
    "# créer image et label rotation 90 "
   ]
  },
  {
   "cell_type": "code",
   "execution_count": 21,
   "metadata": {},
   "outputs": [],
   "source": [
    "def relabel_90(labels,images,i_names,l_names,i_path,l_path):\n",
    "    n,m = images[0].shape\n",
    "    new_labels = labels\n",
    "    for i in range(len(labels)):\n",
    "        x = labels[i][1]\n",
    "        y = labels[i][2]\n",
    "        w = labels[i][3]\n",
    "        h = labels[i][4][:-1]\n",
    "        x_prim = int(float(x) * 1024)-512\n",
    "        y_prim = int(float(y) * 1024)-512\n",
    "        xy = np.array([x_prim,y_prim]).reshape(-1,1)\n",
    "        rot = np.array([[math.cos(3*math.pi/2), math.sin(3*math.pi/2)],[-math.sin(3*math.pi/2), math.cos(3*math.pi/2)]])\n",
    "        mat = rot@xy\n",
    "        x = (int(mat[0][0])+512)/1024\n",
    "        y = (int(mat[1][0])+512)/1024\n",
    "        new_labels[i][1] = x\n",
    "        new_labels[i][2] = y\n",
    "        new_labels[i][3] = h\n",
    "        new_labels[i][4] = w   \n",
    "        with open(l_path+l_names[i][:-4]+'_r90.txt','w') as fp:\n",
    "            ligne = f'{new_labels[i][0]} {new_labels[i][1]} {new_labels[i][2]} {new_labels[i][3]} {new_labels[i][4]}\\n'\n",
    "            fp.write(ligne)\n",
    "    \n",
    "    for i in range(len(images)):\n",
    "        img_r90 = cv2.rotate(images[i],cv2.ROTATE_90_CLOCKWISE)\n",
    "        imgpil = Image.fromarray(img_r90) # Transformation du tableau en image PIL\n",
    "        imgpil.save(i_path+l_names[i][:-4]+'_r90.bmp')\n",
    "    return True"
   ]
  },
  {
   "cell_type": "code",
   "execution_count": 22,
   "metadata": {},
   "outputs": [
    {
     "data": {
      "text/plain": [
       "True"
      ]
     },
     "execution_count": 22,
     "metadata": {},
     "output_type": "execute_result"
    }
   ],
   "source": [
    "i_path = '../piford/'\n",
    "l_path = '../piford/'\n",
    "relabel_90(labels,images,i_names,l_names,i_path,l_path)"
   ]
  },
  {
   "attachments": {},
   "cell_type": "markdown",
   "metadata": {},
   "source": [
    "# creer image et label rotation 270"
   ]
  },
  {
   "cell_type": "code",
   "execution_count": 23,
   "metadata": {},
   "outputs": [],
   "source": [
    "def relabel_270(labels,images,i_names,l_names,i_path,l_path):\n",
    "    n,m = images[0].shape\n",
    "    new_labels = labels\n",
    "    for i in range(len(labels)):\n",
    "        x = labels[i][1]\n",
    "        y = labels[i][2]\n",
    "        w = labels[i][3]\n",
    "        h = labels[i][4][:-1]\n",
    "        x_prim = int(float(x) * 1024)-512\n",
    "        y_prim = int(float(y) * 1024)-512\n",
    "        xy = np.array([x_prim,y_prim]).reshape(-1,1)\n",
    "        rot = np.array([[math.cos(math.pi/2), math.sin(math.pi/2)],[-math.sin(math.pi/2), math.cos(math.pi/2)]])\n",
    "        mat = rot@xy\n",
    "        x = (int(mat[0][0])+512)/1024\n",
    "        y = (int(mat[1][0])+512)/1024\n",
    "        new_labels[i][1] = x\n",
    "        new_labels[i][2] = y\n",
    "        new_labels[i][3] = h\n",
    "        new_labels[i][4] = w   \n",
    "        with open(l_path+l_names[i][:-4]+'_r270.txt','w') as fp:\n",
    "            ligne = f'{new_labels[i][0]} {new_labels[i][1]} {new_labels[i][2]} {new_labels[i][3]} {new_labels[i][4]}\\n'\n",
    "            fp.write(ligne)\n",
    "    \n",
    "    for i in range(len(images)):\n",
    "        img_r270 = cv2.rotate(images[i],cv2.ROTATE_90_COUNTERCLOCKWISE)\n",
    "        imgpil = Image.fromarray(img_r270) # Transformation du tableau en image PIL\n",
    "        imgpil.save(i_path+l_names[i][:-4]+'_r270.bmp')\n",
    "    return True"
   ]
  },
  {
   "cell_type": "code",
   "execution_count": 24,
   "metadata": {},
   "outputs": [
    {
     "data": {
      "text/plain": [
       "True"
      ]
     },
     "execution_count": 24,
     "metadata": {},
     "output_type": "execute_result"
    }
   ],
   "source": [
    "i_path = '../piford/'\n",
    "l_path = '../piford/'\n",
    "relabel_270(labels,images,i_names,l_names,i_path,l_path)"
   ]
  },
  {
   "attachments": {},
   "cell_type": "markdown",
   "metadata": {},
   "source": [
    "# créer image + label flip"
   ]
  },
  {
   "cell_type": "code",
   "execution_count": 25,
   "metadata": {},
   "outputs": [],
   "source": [
    "def relabel_flip(labels,images,i_names,l_names,i_path,l_path):\n",
    "    n,m = images[0].shape\n",
    "    new_labels = labels\n",
    "    for i in range(len(labels)):\n",
    "        new_labels[i][1] = (m - int(float(labels[i][1]) * m)) / m\n",
    "        with open(l_path+l_names[i][:-4]+'_flip.txt','w') as fp:\n",
    "            ligne = f'{new_labels[i][0]} {new_labels[i][1]} {new_labels[i][2]} {new_labels[i][3]} {new_labels[i][4]}'\n",
    "            fp.write(ligne)\n",
    "    \n",
    "    for i in range(len(images)):\n",
    "        aug = iaa.Fliplr(1)\n",
    "        img_flip = aug.augment_image(images[i])\n",
    "        im = Image.fromarray(img_flip) # Transformation du tableau en image PIL\n",
    "        im.save(i_path+l_names[i][:-4]+'_flip.bmp')\n",
    "    return True"
   ]
  },
  {
   "cell_type": "code",
   "execution_count": 26,
   "metadata": {},
   "outputs": [
    {
     "data": {
      "text/plain": [
       "True"
      ]
     },
     "execution_count": 26,
     "metadata": {},
     "output_type": "execute_result"
    }
   ],
   "source": [
    "i_path = '../piford/'\n",
    "l_path = '../piford/'\n",
    "relabel_flip(labels,images,i_names,l_names,i_path,l_path)"
   ]
  },
  {
   "attachments": {},
   "cell_type": "markdown",
   "metadata": {},
   "source": [
    "# créer image et label histo_equalizer"
   ]
  },
  {
   "cell_type": "code",
   "execution_count": 27,
   "metadata": {},
   "outputs": [],
   "source": [
    "def relabel_eq(labels,images,i_names,l_names,i_path,l_path):\n",
    "    for i in range(len(images)):\n",
    "        hist, bins = np.histogram(images[i].flatten(),256,[0,256])\n",
    "        cdf = hist.cumsum()\n",
    "        cdf_m = np.ma.masked_equal(cdf,0)\n",
    "        cdf_m = (cdf_m - cdf_m.min())*255/(cdf_m.max()-cdf_m.min())\n",
    "        cdf = np.ma.filled(cdf_m,0).astype('uint8')\n",
    "        img_eq = cdf[images[i]]\n",
    "        imgpil = Image.fromarray(img_eq) # Transformation du tableau en image PIL\n",
    "        imgpil.save(i_path+l_names[i][:-4]+'_eq.bmp')\n",
    "\n",
    "    new_labels = labels\n",
    "    for i in range(len(labels)):\n",
    "        with open(l_path+l_names[i][:-4]+'_eq.txt','w') as fp:\n",
    "            ligne = f'{new_labels[i][0]} {new_labels[i][1]} {new_labels[i][2]} {new_labels[i][3]} {new_labels[i][4]}'\n",
    "            fp.write(ligne)\n",
    "            \n",
    "    return True"
   ]
  },
  {
   "cell_type": "code",
   "execution_count": 29,
   "metadata": {},
   "outputs": [
    {
     "data": {
      "text/plain": [
       "True"
      ]
     },
     "execution_count": 29,
     "metadata": {},
     "output_type": "execute_result"
    }
   ],
   "source": [
    "i_path = '../piford/'\n",
    "l_path = '../piford/'\n",
    "relabel_eq(labels,images,i_names,l_names,i_path,l_path)"
   ]
  },
  {
   "attachments": {},
   "cell_type": "markdown",
   "metadata": {},
   "source": [
    "# Creer image + lable histo stretching"
   ]
  },
  {
   "cell_type": "code",
   "execution_count": 30,
   "metadata": {},
   "outputs": [],
   "source": [
    "def relabel_stretch(labels,images,i_names,l_names,i_path,l_path):\n",
    "    for i in range(len(images)):\n",
    "        # Open the image and convert it to grayscale\n",
    "        img_data = images[i]\n",
    "        # Perform histogram stretching\n",
    "        min_val = np.min(img_data)\n",
    "        max_val = np.max(img_data)\n",
    "        stretched_data = 255 * ((img_data - min_val) / (max_val - min_val))\n",
    "        stretched_data = stretched_data.astype(np.uint8)\n",
    "        # Save the stretched image to a new file\n",
    "        imgpil = Image.fromarray(stretched_data) # Transformation du tableau en image PIL\n",
    "        imgpil.save(i_path+l_names[i][:-4]+'_stretch.bmp')\n",
    "\n",
    "\n",
    "    new_labels = labels\n",
    "    for i in range(len(labels)):\n",
    "        with open(l_path+l_names[i][:-4]+'_stretch.txt','w') as fp:\n",
    "            ligne = f'{new_labels[i][0]} {new_labels[i][1]} {new_labels[i][2]} {new_labels[i][3]} {new_labels[i][4]}'\n",
    "            fp.write(ligne)\n",
    "            \n",
    "    return True"
   ]
  },
  {
   "cell_type": "code",
   "execution_count": 31,
   "metadata": {},
   "outputs": [
    {
     "data": {
      "text/plain": [
       "True"
      ]
     },
     "execution_count": 31,
     "metadata": {},
     "output_type": "execute_result"
    }
   ],
   "source": [
    "i_path = '../piford/'\n",
    "l_path = '../piford/'\n",
    "relabel_stretch(labels,images,i_names,l_names,i_path,l_path)"
   ]
  },
  {
   "attachments": {},
   "cell_type": "markdown",
   "metadata": {},
   "source": [
    "# creer image + label gaussian noise"
   ]
  },
  {
   "cell_type": "code",
   "execution_count": 33,
   "metadata": {},
   "outputs": [],
   "source": [
    "def relabel_gauss(labels,images,i_names,l_names,i_path,l_path,s=3):\n",
    "    for i in range(len(images)):\n",
    "        aug = iaa.imgcorruptlike.GaussianNoise(severity=s)\n",
    "        img = aug.augment_image(images[i])\n",
    "        imgpil = Image.fromarray(img) # Transformation du tableau en image PIL\n",
    "        imgpil.save(i_path+l_names[i][:-4]+'_gauss.bmp')\n",
    "\n",
    "    new_labels = labels\n",
    "    for i in range(len(labels)):\n",
    "        with open(l_path+l_names[i][:-4]+'_gauss.txt','w') as fp:\n",
    "            ligne = f'{new_labels[i][0]} {new_labels[i][1]} {new_labels[i][2]} {new_labels[i][3]} {new_labels[i][4]}'\n",
    "            fp.write(ligne)\n",
    "            \n",
    "    return True\n"
   ]
  },
  {
   "cell_type": "code",
   "execution_count": 34,
   "metadata": {},
   "outputs": [
    {
     "data": {
      "text/plain": [
       "True"
      ]
     },
     "execution_count": 34,
     "metadata": {},
     "output_type": "execute_result"
    }
   ],
   "source": [
    "i_path = '../piford/'\n",
    "l_path = '../piford/'\n",
    "relabel_gauss(labels,images,i_names,l_names,i_path,l_path,s=3)"
   ]
  },
  {
   "attachments": {},
   "cell_type": "markdown",
   "metadata": {},
   "source": [
    "# créer image + label Motion"
   ]
  },
  {
   "cell_type": "code",
   "execution_count": 35,
   "metadata": {},
   "outputs": [],
   "source": [
    "def relabel_motion(labels,images,i_names,l_names,i_path,l_path,k=30):\n",
    "    for i in range(len(images)):\n",
    "        aug = iaa.MotionBlur(k)\n",
    "        img = aug.augment_image(images[i])\n",
    "        imgpil = Image.fromarray(img) # Transformation du tableau en image PIL\n",
    "        imgpil.save(i_path+l_names[i][:-4]+'_motion.bmp')\n",
    "\n",
    "    new_labels = labels\n",
    "    for i in range(len(labels)):\n",
    "        with open(l_path+l_names[i][:-4]+'_motion.txt','w') as fp:\n",
    "            ligne = f'{new_labels[i][0]} {new_labels[i][1]} {new_labels[i][2]} {new_labels[i][3]} {new_labels[i][4]}'\n",
    "            fp.write(ligne)\n",
    "            \n",
    "    return True"
   ]
  },
  {
   "cell_type": "code",
   "execution_count": 36,
   "metadata": {},
   "outputs": [
    {
     "data": {
      "text/plain": [
       "True"
      ]
     },
     "execution_count": 36,
     "metadata": {},
     "output_type": "execute_result"
    }
   ],
   "source": [
    "i_path = '../piford/'\n",
    "l_path = '../piford/'\n",
    "relabel_motion(labels,images,i_names,l_names,i_path,l_path,k=30)"
   ]
  },
  {
   "attachments": {},
   "cell_type": "markdown",
   "metadata": {},
   "source": [
    "# Créer image + label Blur"
   ]
  },
  {
   "cell_type": "code",
   "execution_count": 37,
   "metadata": {},
   "outputs": [],
   "source": [
    "def relabel_blur(labels,images,i_names,l_names,i_path,l_path,s=3):\n",
    "    for i in range(len(images)):\n",
    "        aug = iaa.imgcorruptlike.GaussianBlur(severity=2)\n",
    "        img = aug.augment_image(images[i])\n",
    "        imgpil = Image.fromarray(img) # Transformation du tableau en image PIL\n",
    "        imgpil.save(i_path+l_names[i][:-4]+'_blur.bmp')\n",
    "\n",
    "    new_labels = labels\n",
    "    for i in range(len(labels)):\n",
    "        with open(l_path+l_names[i][:-4]+'_blur.txt','w') as fp:\n",
    "            ligne = f'{new_labels[i][0]} {new_labels[i][1]} {new_labels[i][2]} {new_labels[i][3]} {new_labels[i][4]}'\n",
    "            fp.write(ligne)\n",
    "            \n",
    "    return True"
   ]
  },
  {
   "cell_type": "code",
   "execution_count": null,
   "metadata": {},
   "outputs": [],
   "source": [
    "i_path = '../piford/'\n",
    "l_path = '../piford/'\n",
    "relabel_blur(labels,images,i_names,l_names,i_path,l_path,s=3)"
   ]
  }
 ],
 "metadata": {
  "kernelspec": {
   "display_name": "Python 3",
   "language": "python",
   "name": "python3"
  },
  "language_info": {
   "codemirror_mode": {
    "name": "ipython",
    "version": 3
   },
   "file_extension": ".py",
   "mimetype": "text/x-python",
   "name": "python",
   "nbconvert_exporter": "python",
   "pygments_lexer": "ipython3",
   "version": "3.10.6"
  },
  "orig_nbformat": 4
 },
 "nbformat": 4,
 "nbformat_minor": 2
}
